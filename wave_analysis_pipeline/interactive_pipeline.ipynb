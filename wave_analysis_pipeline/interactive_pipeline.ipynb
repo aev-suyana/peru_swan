{
 "cells": [
  {
   "cell_type": "markdown",
   "metadata": {},
   "source": [
    "# Wave Analysis Pipeline - Interactive Execution\n",
    "\n",
    "This notebook provides interactive execution of the wave analysis pipeline.\n",
    "Each script can be run independently in its own cell."
   ]
  },
  {
   "cell_type": "markdown",
   "metadata": {},
   "source": [
    "## 🔧 Setup and Configuration"
   ]
  },
  {
   "cell_type": "code",
   "execution_count": null,
   "metadata": {},
   "outputs": [],
   "source": [
    "# Import required libraries\n",
    "import os\n",
    "import sys\n",
    "import pandas as pd\n",
    "import numpy as np\n",
    "from datetime import datetime\n",
    "import importlib.util\n",
    "import warnings\n",
    "warnings.filterwarnings('ignore')\n",
    "\n",
    "# Import configuration\n",
    "from config import config, get_input_files, get_output_files, validate_configuration, print_configuration\n",
    "\n",
    "print('✅ Configuration imported successfully!')"
   ]
  },
  {
   "cell_type": "markdown",
   "metadata": {},
   "source": [
    "## ⚙️ Configuration and Validation"
   ]
  },
  {
   "cell_type": "code",
   "execution_count": null,
   "metadata": {},
   "outputs": [],
   "source": [
    "# Validate and display current configuration\n",
    "print('🔍 CONFIGURATION VALIDATION')\n",
    "print('='*50)\n",
    "\n",
    "if validate_configuration():\n",
    "    print_configuration()\n",
    "    \n",
    "    # Show file paths\n",
    "    input_files = get_input_files()\n",
    "    output_files = get_output_files()\n",
    "    \n",
    "    print(f'\\n📂 INPUT FILES:')\n",
    "    for name, path in input_files.items():\n",
    "        exists = '✅' if os.path.exists(path) else '❌'\n",
    "        print(f'  {exists} {name}: {path}')\n",
    "    \n",
    "    print('\\n🎯 Ready to run pipeline!')\n",
    "    \n",
    "else:\n",
    "    print('❌ Configuration validation failed!')\n",
    "    print('Please check config.py settings')"
   ]
  },
  {
   "cell_type": "markdown",
   "metadata": {},
   "source": [
    "## 📊 Step 1: Data Preparation 0"
   ]
  },
  {
   "cell_type": "code",
   "execution_count": null,
   "metadata": {},
   "outputs": [],
   "source": [
    "# Execute data_prep_0.py\n",
    "print('🚀 EXECUTING: data_prep_0.py')\n",
    "print('='*50)\n",
    "\n",
    "script_path = os.path.join('scripts', 'data_prep_0.py')\n",
    "\n",
    "if os.path.exists(script_path):\n",
    "    exec(open(script_path).read())\n",
    "else:\n",
    "    print(f'❌ Script not found: {script_path}')"
   ]
  },
  {
   "cell_type": "markdown",
   "metadata": {},
   "source": [
    "## 🛠️ Step 2: Data Preparation 1"
   ]
  },
  {
   "cell_type": "code",
   "execution_count": null,
   "metadata": {},
   "outputs": [],
   "source": [
    "# Execute data_prep_1.py\n",
    "print('🚀 EXECUTING: data_prep_1.py')\n",
    "print('='*50)\n",
    "\n",
    "script_path = os.path.join('scripts', 'data_prep_1.py')\n",
    "\n",
    "if os.path.exists(script_path):\n",
    "    exec(open(script_path).read())\n",
    "else:\n",
    "    print(f'❌ Script not found: {script_path}')"
   ]
  },
  {
   "cell_type": "markdown",
   "metadata": {},
   "source": [
    "## 🎯 Step 3: Rule Evaluation"
   ]
  },
  {
   "cell_type": "code",
   "execution_count": null,
   "metadata": {},
   "outputs": [],
   "source": [
    "# Execute rule_evaluation.py\n",
    "print('🚀 EXECUTING: rule_evaluation.py')\n",
    "print('='*50)\n",
    "\n",
    "script_path = os.path.join('scripts', 'rule_evaluation.py')\n",
    "\n",
    "if os.path.exists(script_path):\n",
    "    exec(open(script_path).read())\n",
    "else:\n",
    "    print(f'❌ Script not found: {script_path}')"
   ]
  },
  {
   "cell_type": "markdown",
   "metadata": {},
   "source": [
    "## 📈 Step 4: AEP Calculation"
   ]
  },
  {
   "cell_type": "code",
   "execution_count": null,
   "metadata": {},
   "outputs": [],
   "source": [
    "# Execute aep_calculation.py\n",
    "print('🚀 EXECUTING: aep_calculation.py')\n",
    "print('='*50)\n",
    "\n",
    "script_path = os.path.join('scripts', 'aep_calculation.py')\n",
    "\n",
    "if os.path.exists(script_path):\n",
    "    exec(open(script_path).read())\n",
    "else:\n",
    "    print(f'❌ Script not found: {script_path}')"
   ]
  },
  {
   "cell_type": "markdown",
   "metadata": {},
   "source": [
    "## 📊 Results Summary"
   ]
  },
  {
   "cell_type": "code",
   "execution_count": null,
   "metadata": {},
   "outputs": [],
   "source": [
    "# Display results summary\n",
    "print('📊 PIPELINE RESULTS SUMMARY')\n",
    "print('='*50)\n",
    "\n",
    "print(f'🎉 Pipeline completed for: {config.reference_port}')\n",
    "print(f'📊 Run: {config.RUN_PATH}')\n",
    "\n",
    "# Check output files\n",
    "output_files = get_output_files()\n",
    "print(f'\\n📁 Output Files:')\n",
    "for name, path in output_files.items():\n",
    "    if os.path.exists(path):\n",
    "        size = os.path.getsize(path) / (1024*1024)  # MB\n",
    "        print(f'  ✅ {name}: {size:.1f} MB')\n",
    "    else:\n",
    "        print(f'  ❌ {name}: Not created')"
   ]
  }
 ],
 "metadata": {
  "kernelspec": {
   "display_name": "Python 3",
   "language": "python",
   "name": "python3"
  },
  "language_info": {
   "codemirror_mode": {
    "name": "ipython",
    "version": 3
   },
   "file_extension": ".py",
   "name": "python",
   "nbconvert_exporter": "python",
   "pygments_lexer": "ipython3",
   "version": "3.8.5"
  }
 },
 "nbformat": 4,
 "nbformat_minor": 4
}