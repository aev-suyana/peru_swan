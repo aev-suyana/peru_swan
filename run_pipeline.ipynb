{
 "cells": [
  {
   "cell_type": "markdown",
   "metadata": {},
   "source": [
    "# Peru SWAN Pipeline: End-to-End Run\n",
    "This notebook runs each major pipeline script in a separate cell.\n",
    "\n",
    "**Make sure to set your desired `RUN_PATH` in `config.py` before running.**\n",
    "\n",
    "---"
   ]
  },
  {
   "cell_type": "code",
   "execution_count": null,
   "metadata": {},
   "outputs": [
    {
     "name": "stdout",
     "output_type": "stream",
     "text": [
      "env: PYTHONPATH=.\n",
      "✅ Using centralized configuration\n",
      "🔧 DATA_PREPARATION_0.PY - Initial Processing\n",
      "🚀 DATA PREPARATION STEP 0 - INITIAL PROCESSING\n",
      "================================================================================\n",
      "Run: run_g2\n",
      "Reference port: CALETA_ORGANOS\n",
      "Coordinates: (-4.176, -81.127)\n",
      "================================================================================\n",
      "\n",
      "📊 STEP 1: Loading port closure data...\n",
      "✅ Loaded 23073 port closure records\n",
      "Years: [np.int64(2013), np.int64(2014), np.int64(2015), np.int64(2016), np.int64(2017), np.int64(2018), np.int64(2019), np.int64(2020), np.int64(2021), np.int64(2022), np.int64(2023), np.int64(2024), np.int64(2025)]\n",
      "Ports: 150 unique ports\n",
      "\n",
      "🌊 STEP 2: Loading SWAN wave data...\n",
      "Loading SWAN wave data from CSV...\n",
      "Loaded 35,058 wave data records\n",
      "Date range: 2013-04-30 to 2025-04-30\n",
      "SWH range: 0.007 to 1.133 m\n",
      "\n",
      "📈 STEP 3: Processing SWAN data to daily aggregates...\n",
      "Processing SWAN data for CALETA_ORGANOS...\n",
      "60th percentile threshold from 2023: 0.35m\n",
      "✅ SWAN daily processing complete: (2557, 30)\n",
      "\n",
      "📡 STEP 4: Loading and processing WAVERYS data...\n",
      "Loading WAVERYS data for reference port: CALETA_ORGANOS\n",
      "Processing WAVERYS 1993...\n",
      "  Loaded 2,920 records for CALETA_ORGANOS\n",
      "Processing WAVERYS 1994...\n",
      "  Loaded 2,920 records for CALETA_ORGANOS\n",
      "Processing WAVERYS 1995...\n",
      "  Loaded 2,920 records for CALETA_ORGANOS\n",
      "Processing WAVERYS 1996...\n",
      "  Loaded 2,928 records for CALETA_ORGANOS\n",
      "Processing WAVERYS 1997...\n",
      "  Loaded 2,920 records for CALETA_ORGANOS\n",
      "Processing WAVERYS 1998...\n",
      "  Loaded 2,920 records for CALETA_ORGANOS\n",
      "Processing WAVERYS 1999...\n",
      "  Loaded 2,920 records for CALETA_ORGANOS\n",
      "Processing WAVERYS 2000...\n",
      "  Loaded 2,928 records for CALETA_ORGANOS\n",
      "Processing WAVERYS 2001...\n",
      "  Loaded 2,920 records for CALETA_ORGANOS\n",
      "Processing WAVERYS 2002...\n",
      "  Loaded 2,920 records for CALETA_ORGANOS\n",
      "Processing WAVERYS 2003...\n",
      "  Loaded 2,920 records for CALETA_ORGANOS\n",
      "Processing WAVERYS 2004...\n",
      "  Loaded 2,928 records for CALETA_ORGANOS\n",
      "Processing WAVERYS 2005...\n",
      "  Loaded 2,920 records for CALETA_ORGANOS\n",
      "Processing WAVERYS 2006...\n",
      "  Loaded 2,920 records for CALETA_ORGANOS\n",
      "Processing WAVERYS 2007...\n",
      "  Loaded 2,920 records for CALETA_ORGANOS\n",
      "Processing WAVERYS 2008...\n",
      "  Loaded 2,928 records for CALETA_ORGANOS\n",
      "Processing WAVERYS 2009...\n",
      "  Loaded 2,920 records for CALETA_ORGANOS\n",
      "Processing WAVERYS 2010...\n",
      "  Loaded 2,920 records for CALETA_ORGANOS\n",
      "Processing WAVERYS 2011...\n",
      "  Loaded 2,920 records for CALETA_ORGANOS\n",
      "Processing WAVERYS 2012...\n",
      "  Loaded 2,928 records for CALETA_ORGANOS\n",
      "Processing WAVERYS 2013...\n",
      "  Loaded 2,920 records for CALETA_ORGANOS\n",
      "Processing WAVERYS 2014...\n",
      "  Loaded 2,920 records for CALETA_ORGANOS\n",
      "Processing WAVERYS 2015...\n",
      "  Loaded 2,920 records for CALETA_ORGANOS\n",
      "Processing WAVERYS 2016...\n",
      "  Loaded 2,928 records for CALETA_ORGANOS\n",
      "Processing WAVERYS 2017...\n",
      "  Loaded 2,920 records for CALETA_ORGANOS\n",
      "Processing WAVERYS 2018...\n",
      "  Loaded 2,920 records for CALETA_ORGANOS\n",
      "Processing WAVERYS 2019...\n",
      "  Loaded 2,920 records for CALETA_ORGANOS\n",
      "Processing WAVERYS 2020...\n",
      "  Loaded 2,928 records for CALETA_ORGANOS\n",
      "Processing WAVERYS 2021...\n",
      "  Loaded 2,920 records for CALETA_ORGANOS\n",
      "Processing WAVERYS 2022...\n",
      "  Loaded 2,920 records for CALETA_ORGANOS\n",
      "Processing WAVERYS 2023...\n"
     ]
    }
   ],
   "source": [
    "# 1. Data Preparation\n",
    "%env PYTHONPATH=.\n",
    "!python3 scripts/data_preparation_0.py"
   ]
  },
  {
   "cell_type": "code",
   "execution_count": 1,
   "metadata": {},
   "outputs": [
    {
     "name": "stdout",
     "output_type": "stream",
     "text": [
      "env: PYTHONPATH=.\n",
      "✅ Using centralized configuration\n",
      "\n",
      "🔧 DATA_PREPARATION_1.PY - Enhanced Processing\n",
      "\n",
      "STEP 1: Loading and validating daily data\n",
      "✗ SWAN daily file not found: /Users/ageidv/suyana/peru_swan/wave_analysis_pipeline/data/processed/run_g2/df_swan_daily_enhanced.csv\n",
      "✗ WAVERYS daily file not found: /Users/ageidv/suyana/peru_swan/wave_analysis_pipeline/data/processed/run_g2/df_waverys_daily.csv\n",
      "❌ One or more required input files are missing or empty. Exiting.\n"
     ]
    }
   ],
   "source": [
    "# 1. Data Preparation\n",
    "%env PYTHONPATH=.\n",
    "!python3 scripts/data_preparation_1.py"
   ]
  },
  {
   "cell_type": "code",
   "execution_count": null,
   "metadata": {},
   "outputs": [],
   "source": [
    "# 2. Rule Evaluation (CV, ML, Thresholds)\n",
    "%env PYTHONPATH=.\n",
    "!python3 scripts/rule_evaluation.py"
   ]
  },
  {
   "cell_type": "code",
   "execution_count": null,
   "metadata": {},
   "outputs": [],
   "source": [
    "# 3. AEP Calculation (Rule & ML)\n",
    "%env PYTHONPATH=.\n",
    "!python3 scripts/aep_calculation.py"
   ]
  },
  {
   "cell_type": "code",
   "execution_count": null,
   "metadata": {},
   "outputs": [],
   "source": [
    "# 4. Plot Pipeline Summary\n",
    "%env PYTHONPATH=.\n",
    "!python3 scripts/plot_pipeline_summary.py"
   ]
  }
 ],
 "metadata": {
  "kernelspec": {
   "display_name": "parametric",
   "language": "python",
   "name": "python3"
  },
  "language_info": {
   "codemirror_mode": {
    "name": "ipython",
    "version": 3
   },
   "file_extension": ".py",
   "mimetype": "text/x-python",
   "name": "python",
   "nbconvert_exporter": "python",
   "pygments_lexer": "ipython3",
   "version": "3.9.18"
  }
 },
 "nbformat": 4,
 "nbformat_minor": 4
}
